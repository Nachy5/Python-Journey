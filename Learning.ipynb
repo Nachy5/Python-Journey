{
 "cells": [
  {
   "cell_type": "markdown",
   "id": "7574c5a5",
   "metadata": {},
   "source": [
    "## Booleans and Conditionals"
   ]
  },
  {
   "cell_type": "markdown",
   "id": "8d410cc2",
   "metadata": {},
   "source": [
    "### Booleans"
   ]
  },
  {
   "cell_type": "code",
   "execution_count": 4,
   "id": "bd380a2d",
   "metadata": {},
   "outputs": [
    {
     "name": "stdout",
     "output_type": "stream",
     "text": [
      "True\n",
      "<class 'bool'>\n"
     ]
    }
   ],
   "source": [
    "x = True\n",
    "print (x)\n",
    "print (type (x))"
   ]
  },
  {
   "cell_type": "code",
   "execution_count": 15,
   "id": "2e5507bb",
   "metadata": {},
   "outputs": [],
   "source": [
    "def can_run_for_president(age):\n",
    "    \"\"\"Can someone of the given age run for president in the US?\"\"\"\n",
    "    # The US constitution says you must be at least 35 years old\n",
    "    return age >= 35 # 19 >= 35"
   ]
  },
  {
   "cell_type": "code",
   "execution_count": 16,
   "id": "34c4ac24",
   "metadata": {},
   "outputs": [],
   "source": [
    "def can_run_for_president(age):\n",
    "    \"\"\"Can someone of the given age run for president in the US?\"\"\"\n",
    "    # The US constitution says you must be at least 35 years old\n",
    "    if age >= 35:\n",
    "        return True\n",
    "    else:\n",
    "        return False"
   ]
  },
  {
   "cell_type": "code",
   "execution_count": 18,
   "id": "c687701c",
   "metadata": {
    "scrolled": true
   },
   "outputs": [
    {
     "name": "stdout",
     "output_type": "stream",
     "text": [
      "Help on built-in function print in module builtins:\n",
      "\n",
      "print(...)\n",
      "    print(value, ..., sep=' ', end='\\n', file=sys.stdout, flush=False)\n",
      "    \n",
      "    Prints the values to a stream, or to sys.stdout by default.\n",
      "    Optional keyword arguments:\n",
      "    file:  a file-like object (stream); defaults to the current sys.stdout.\n",
      "    sep:   string inserted between values, default a space.\n",
      "    end:   string appended after the last value, default a newline.\n",
      "    flush: whether to forcibly flush the stream.\n",
      "\n"
     ]
    }
   ],
   "source": [
    "help\n",
    "help(print)"
   ]
  },
  {
   "cell_type": "code",
   "execution_count": null,
   "id": "2c3d3143",
   "metadata": {},
   "outputs": [],
   "source": [
    "print(\"can run for president\")"
   ]
  },
  {
   "cell_type": "code",
   "execution_count": 21,
   "id": "432b9077",
   "metadata": {},
   "outputs": [
    {
     "data": {
      "text/plain": [
       "True"
      ]
     },
     "execution_count": 21,
     "metadata": {},
     "output_type": "execute_result"
    }
   ],
   "source": [
    "5.0 == 5\n"
   ]
  },
  {
   "cell_type": "code",
   "execution_count": 28,
   "id": "c88a6648",
   "metadata": {},
   "outputs": [
    {
     "ename": "SyntaxError",
     "evalue": "invalid syntax (<ipython-input-28-d895195847bc>, line 1)",
     "output_type": "error",
     "traceback": [
      "\u001b[1;36m  File \u001b[1;32m\"<ipython-input-28-d895195847bc>\"\u001b[1;36m, line \u001b[1;32m1\u001b[0m\n\u001b[1;33m    def sign:\u001b[0m\n\u001b[1;37m            ^\u001b[0m\n\u001b[1;31mSyntaxError\u001b[0m\u001b[1;31m:\u001b[0m invalid syntax\n"
     ]
    }
   ],
   "source": [
    "def sign:\n",
    "if (sign ==-1) \n",
    "elif == 1 and (sign == 0)\n",
    "return = "
   ]
  },
  {
   "cell_type": "code",
   "execution_count": 4,
   "id": "8e48f60b",
   "metadata": {},
   "outputs": [
    {
     "data": {
      "text/plain": [
       "12"
      ]
     },
     "execution_count": 4,
     "metadata": {},
     "output_type": "execute_result"
    }
   ],
   "source": [
    "4*3"
   ]
  },
  {
   "cell_type": "code",
   "execution_count": 5,
   "id": "f76dfb98",
   "metadata": {},
   "outputs": [
    {
     "data": {
      "text/plain": [
       "2401"
      ]
     },
     "execution_count": 5,
     "metadata": {},
     "output_type": "execute_result"
    }
   ],
   "source": [
    "7**4\n",
    "#exponential raises power to"
   ]
  },
  {
   "cell_type": "code",
   "execution_count": 8,
   "id": "ccd2553a",
   "metadata": {},
   "outputs": [
    {
     "data": {
      "text/plain": [
       "4"
      ]
     },
     "execution_count": 8,
     "metadata": {},
     "output_type": "execute_result"
    }
   ],
   "source": [
    "18 % 7\n",
    "#modulo\n",
    "#returns the remainder o the division of the number to the left"
   ]
  },
  {
   "cell_type": "code",
   "execution_count": 9,
   "id": "fbc64246",
   "metadata": {},
   "outputs": [
    {
     "name": "stdout",
     "output_type": "stream",
     "text": [
      "194.87171000000012\n"
     ]
    }
   ],
   "source": [
    "print (100 * 1.1 **7)"
   ]
  },
  {
   "cell_type": "markdown",
   "id": "23fd9588",
   "metadata": {},
   "source": [
    "# Variables"
   ]
  },
  {
   "cell_type": "code",
   "execution_count": 11,
   "id": "88fb8283",
   "metadata": {},
   "outputs": [
    {
     "name": "stdout",
     "output_type": "stream",
     "text": [
      "3.75\n"
     ]
    }
   ],
   "source": [
    "#defining variables\n",
    "GP = 3.75\n",
    "print (GP)"
   ]
  },
  {
   "cell_type": "code",
   "execution_count": 12,
   "id": "6018076e",
   "metadata": {},
   "outputs": [
    {
     "name": "stdout",
     "output_type": "stream",
     "text": [
      "7.5\n"
     ]
    }
   ],
   "source": [
    "multiplier = 2\n",
    "print (GP * multiplier)"
   ]
  },
  {
   "cell_type": "code",
   "execution_count": 13,
   "id": "4398de76",
   "metadata": {},
   "outputs": [
    {
     "name": "stdout",
     "output_type": "stream",
     "text": [
      "7.5\n"
     ]
    }
   ],
   "source": [
    "result = (GP * multiplier)\n",
    "print (result)"
   ]
  },
  {
   "cell_type": "markdown",
   "id": "f0cfc282",
   "metadata": {},
   "source": [
    "# Data Types"
   ]
  },
  {
   "cell_type": "markdown",
   "id": "827bb5e0",
   "metadata": {},
   "source": [
    "### int for integers\n",
    "### float\n",
    "### str for strings\n",
    "### bool for boolean which is specified as True or False"
   ]
  },
  {
   "cell_type": "code",
   "execution_count": 15,
   "id": "564d0294",
   "metadata": {},
   "outputs": [
    {
     "data": {
      "text/plain": [
       "str"
      ]
     },
     "execution_count": 15,
     "metadata": {},
     "output_type": "execute_result"
    }
   ],
   "source": [
    "a = \"help\"\n",
    "type (a)"
   ]
  },
  {
   "cell_type": "markdown",
   "id": "89b3aff9",
   "metadata": {},
   "source": [
    "# verifying data types"
   ]
  },
  {
   "cell_type": "code",
   "execution_count": 16,
   "id": "0abbfc02",
   "metadata": {},
   "outputs": [
    {
     "data": {
      "text/plain": [
       "int"
      ]
     },
     "execution_count": 16,
     "metadata": {},
     "output_type": "execute_result"
    }
   ],
   "source": [
    "b = 5\n",
    "type (b)"
   ]
  },
  {
   "cell_type": "code",
   "execution_count": 18,
   "id": "c65b8f1d",
   "metadata": {},
   "outputs": [
    {
     "data": {
      "text/plain": [
       "str"
      ]
     },
     "execution_count": 18,
     "metadata": {},
     "output_type": "execute_result"
    }
   ],
   "source": [
    "c = \"true\"\n",
    "type (c)"
   ]
  },
  {
   "cell_type": "code",
   "execution_count": 7,
   "id": "207372e8",
   "metadata": {},
   "outputs": [
    {
     "data": {
      "text/plain": [
       "float"
      ]
     },
     "execution_count": 7,
     "metadata": {},
     "output_type": "execute_result"
    }
   ],
   "source": [
    "savings = 100\n",
    "growth_multiplier = 1.1\n",
    "desc = \"compound interest\"\n",
    "year1 = ( savings * growth_multiplier)\n",
    "type (year1)"
   ]
  },
  {
   "cell_type": "code",
   "execution_count": 23,
   "id": "793dd0f9",
   "metadata": {},
   "outputs": [
    {
     "name": "stdout",
     "output_type": "stream",
     "text": [
      "110.00000000000001\n"
     ]
    }
   ],
   "source": [
    "print (year1)"
   ]
  },
  {
   "cell_type": "code",
   "execution_count": 35,
   "id": "564f437a",
   "metadata": {
    "scrolled": true
   },
   "outputs": [
    {
     "name": "stdout",
     "output_type": "stream",
     "text": [
      "compound interest compound interest\n",
      "compound interestcompound interest\n"
     ]
    }
   ],
   "source": [
    "doubledesc = desc+\" \"+desc\n",
    "doubledesc2 = desc + desc\n",
    "print (doubledesc)\n",
    "print (doubledesc2)"
   ]
  },
  {
   "cell_type": "code",
   "execution_count": 50,
   "id": "597d91e7",
   "metadata": {},
   "outputs": [
    {
     "name": "stdout",
     "output_type": "stream",
     "text": [
      "desc\n",
      "desc\n"
     ]
    }
   ],
   "source": [
    "doubledesc3 = \"desc\\ndesc\"\n",
    "print (doubledesc3)"
   ]
  },
  {
   "cell_type": "code",
   "execution_count": 5,
   "id": "c736a7e5",
   "metadata": {},
   "outputs": [
    {
     "name": "stdout",
     "output_type": "stream",
     "text": [
      "I am learning python speedily This is cool too\n"
     ]
    }
   ],
   "source": [
    "print (\"I am learning python speedily\" + \" \" \"This is cool too\")"
   ]
  },
  {
   "cell_type": "code",
   "execution_count": 6,
   "id": "1e997c38",
   "metadata": {},
   "outputs": [
    {
     "ename": "NameError",
     "evalue": "name 'savings' is not defined",
     "output_type": "error",
     "traceback": [
      "\u001b[1;31m---------------------------------------------------------------------------\u001b[0m",
      "\u001b[1;31mNameError\u001b[0m                                 Traceback (most recent call last)",
      "\u001b[1;32m<ipython-input-6-4ceffcb9aa58>\u001b[0m in \u001b[0;36m<module>\u001b[1;34m\u001b[0m\n\u001b[1;32m----> 1\u001b[1;33m \u001b[0mprint\u001b[0m \u001b[1;33m(\u001b[0m\u001b[0msavings\u001b[0m\u001b[1;33m)\u001b[0m\u001b[1;33m\u001b[0m\u001b[1;33m\u001b[0m\u001b[0m\n\u001b[0m",
      "\u001b[1;31mNameError\u001b[0m: name 'savings' is not defined"
     ]
    }
   ],
   "source": [
    "print (savings)"
   ]
  },
  {
   "cell_type": "code",
   "execution_count": 8,
   "id": "7b3d021d",
   "metadata": {},
   "outputs": [
    {
     "name": "stdout",
     "output_type": "stream",
     "text": [
      "100\n"
     ]
    }
   ],
   "source": [
    "print (savings)"
   ]
  },
  {
   "cell_type": "code",
   "execution_count": 11,
   "id": "948db63e",
   "metadata": {},
   "outputs": [
    {
     "name": "stdout",
     "output_type": "stream",
     "text": [
      "Emeka100\n"
     ]
    }
   ],
   "source": [
    "print (\"Emeka\" + str(savings))"
   ]
  },
  {
   "cell_type": "code",
   "execution_count": 12,
   "id": "d1033cc5",
   "metadata": {},
   "outputs": [
    {
     "data": {
      "text/plain": [
       "int"
      ]
     },
     "execution_count": 12,
     "metadata": {},
     "output_type": "execute_result"
    }
   ],
   "source": [
    "x = 45\n",
    "type (x)"
   ]
  },
  {
   "cell_type": "code",
   "execution_count": 13,
   "id": "af308add",
   "metadata": {},
   "outputs": [
    {
     "name": "stdout",
     "output_type": "stream",
     "text": [
      "1\n"
     ]
    }
   ],
   "source": [
    "print (7%3)"
   ]
  },
  {
   "cell_type": "code",
   "execution_count": 19,
   "id": "25c8017e",
   "metadata": {},
   "outputs": [
    {
     "name": "stdout",
     "output_type": "stream",
     "text": [
      "emeka, ada\n"
     ]
    }
   ],
   "source": [
    "Height = ('emeka, ada')\n",
    "print (Height)"
   ]
  },
  {
   "cell_type": "code",
   "execution_count": 27,
   "id": "e04bc67a",
   "metadata": {},
   "outputs": [
    {
     "name": "stdout",
     "output_type": "stream",
     "text": [
      "[11.25, 18.0, 20.0, 10.75, 9.5]\n"
     ]
    }
   ],
   "source": [
    "hall = 11.25\n",
    "kit = 18.00\n",
    "liv = 20.00\n",
    "bed = 10.75\n",
    "bath = 9.50\n",
    "ball = 7.8\n",
    "areas = [hall, kit, liv, bed, bath]\n",
    "print (areas)\n"
   ]
  },
  {
   "cell_type": "code",
   "execution_count": 28,
   "id": "cb27ca09",
   "metadata": {},
   "outputs": [
    {
     "name": "stdout",
     "output_type": "stream",
     "text": [
      "3\n"
     ]
    }
   ],
   "source": [
    "Worry = 3\n",
    "print (Worry)"
   ]
  },
  {
   "cell_type": "code",
   "execution_count": null,
   "id": "08f95e08",
   "metadata": {},
   "outputs": [],
   "source": []
  }
 ],
 "metadata": {
  "kernelspec": {
   "display_name": "Python 3",
   "language": "python",
   "name": "python3"
  },
  "language_info": {
   "codemirror_mode": {
    "name": "ipython",
    "version": 3
   },
   "file_extension": ".py",
   "mimetype": "text/x-python",
   "name": "python",
   "nbconvert_exporter": "python",
   "pygments_lexer": "ipython3",
   "version": "3.8.8"
  }
 },
 "nbformat": 4,
 "nbformat_minor": 5
}
